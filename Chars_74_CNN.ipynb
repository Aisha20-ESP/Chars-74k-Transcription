{
  "nbformat": 4,
  "nbformat_minor": 0,
  "metadata": {
    "colab": {
      "name": "Chars_74_CNN.ipynb",
      "provenance": [],
      "collapsed_sections": []
    },
    "kernelspec": {
      "name": "python3",
      "display_name": "Python 3"
    },
    "accelerator": "GPU"
  },
  "cells": [
    {
      "cell_type": "markdown",
      "metadata": {
        "id": "hlYkE45yrUka"
      },
      "source": [
        "# On reprends notre precedent model en utilisant cette fois ci un CNN en travaillant sur le sous dataset FNT .\n",
        "un réseau de neurones convolutifs ( CNN , ou ConvNet ) est une classe de réseaux de neurones artificiels ( ANN ), le plus souvent appliqué pour analyser l'imagerie visuelle. Ils sont également connus sous le nom de Shift Invariant ou Space Invariant Artificial Neural Networks ( SIANN ), basés sur l'architecture à poids partagé des noyaux de convolution ou des filtres qui glissent le long des caractéristiques d'entrée et fournissent des réponses équivariantes de traduction appelées cartes de caractéristiques.Ces filtres recherchent des éléments à forte valeur visuelle (coin, bordures, contours, ...) qui sont de plus en plus complexes au fur et à mesure que l'on rajoute des couches. C'est ce qui fait que les CNN ont la capacité de reconnaitre des choses interessentes dans une image en l'analysant successivement a differents niveaux ,de facon hierarchique...\n"
      ]
    },
    {
      "cell_type": "markdown",
      "source": [
        "Commencons par charger les donneés\n"
      ],
      "metadata": {
        "id": "zLK10j8aFVv1"
      }
    },
    {
      "cell_type": "code",
      "source": [
        "from google.colab import drive\n",
        "drive.mount('/content/drive')"
      ],
      "metadata": {
        "id": "WIjH0jSGUkL5",
        "colab": {
          "base_uri": "https://localhost:8080/"
        },
        "outputId": "6e45175a-6cec-4ec7-c0ef-4adb410a7df5"
      },
      "execution_count": null,
      "outputs": [
        {
          "output_type": "stream",
          "name": "stdout",
          "text": [
            "Mounted at /content/drive\n"
          ]
        }
      ]
    },
    {
      "cell_type": "code",
      "source": [
        "!ls /content/drive/MyDrive/chars74K"
      ],
      "metadata": {
        "id": "RggNfoCSUzO9",
        "colab": {
          "base_uri": "https://localhost:8080/"
        },
        "outputId": "23f8b045-9d3e-4617-8956-4f0e62f33eab"
      },
      "execution_count": null,
      "outputs": [
        {
          "output_type": "stream",
          "name": "stdout",
          "text": [
            "EnglishFnt.tgz\tEnglishHnd.tgz\tEnglishImg.tgz\n"
          ]
        }
      ]
    },
    {
      "cell_type": "code",
      "source": [
        "# !tar -xzvf \"/content/drive/MyDrive/chars74k.tgz\" -C \"/tmp/\"     #[run this cell to extract tar.gz files]\n",
        "\n",
        "\n",
        "\n",
        "import tarfile\n",
        "import os \n",
        "path_to_dataset = '/content/drive/MyDrive/chars74K'\n",
        "\n",
        "\n",
        "for (root,dir,files) in os.walk(path_to_dataset):\n",
        "  for filename in files:\n",
        "    print(os.path.join(root,filename))\n",
        "    tar = tarfile.open(os.path.join(root,filename))\n",
        "    tar.extractall()\n",
        "  break"
      ],
      "metadata": {
        "id": "jV20lIgZU9NP",
        "colab": {
          "base_uri": "https://localhost:8080/"
        },
        "outputId": "be800fb0-5d2a-42b8-9420-fc040beef09a"
      },
      "execution_count": null,
      "outputs": [
        {
          "output_type": "stream",
          "name": "stdout",
          "text": [
            "/content/drive/MyDrive/chars74K/EnglishFnt.tgz\n",
            "/content/drive/MyDrive/chars74K/EnglishImg.tgz\n",
            "/content/drive/MyDrive/chars74K/EnglishHnd.tgz\n"
          ]
        }
      ]
    },
    {
      "cell_type": "code",
      "source": [
        "!ls"
      ],
      "metadata": {
        "id": "80iQU1OXVKFW",
        "colab": {
          "base_uri": "https://localhost:8080/"
        },
        "outputId": "bf0b2e32-a807-4f61-c83f-bfe05b289a0f"
      },
      "execution_count": null,
      "outputs": [
        {
          "output_type": "stream",
          "name": "stdout",
          "text": [
            "drive  English\tsample_data\n"
          ]
        }
      ]
    },
    {
      "cell_type": "code",
      "source": [
        "!ls ./English"
      ],
      "metadata": {
        "id": "HZg1BGNwVK4K",
        "colab": {
          "base_uri": "https://localhost:8080/"
        },
        "outputId": "2b260348-aba4-4b9f-ad40-5bb73172ebaa"
      },
      "execution_count": null,
      "outputs": [
        {
          "output_type": "stream",
          "name": "stdout",
          "text": [
            "Fnt  Hnd  Img\n"
          ]
        }
      ]
    },
    {
      "cell_type": "code",
      "source": [
        "from keras.preprocessing.image import ImageDataGenerator\n",
        "BATCH_SIZE = 32\n",
        "datagen_args = dict(\n",
        "    width_shift_range=0.2,\n",
        "    height_shift_range=0.2,\n",
        "    rotation_range=20,\n",
        "    shear_range=0.2,\n",
        "    zoom_range=0.2,\n",
        "    horizontal_flip=True,\n",
        "    validation_split=0.2,#this is the trick\n",
        "    rescale=1./255)\n",
        "def image_data_generator(data_dir,\n",
        "                       data_augment=False,\n",
        "                       batch_size=BATCH_SIZE,\n",
        "                       target_size=(100, 100),\n",
        "                       color_mode='rgb',\n",
        "                       class_mode='categorical',\n",
        "                       shuffle=True,\n",
        "                       subset=\"training\"\n",
        "                      ): \n",
        "  if data_augment:\n",
        "      datagen = ImageDataGenerator(**datagen_args)\n",
        "  else:\n",
        "      datagen = ImageDataGenerator(rescale=1./255,validation_split=0.2)\n",
        "\n",
        "  generator = datagen.flow_from_directory(data_dir,\n",
        "                                          target_size=target_size,\n",
        "                                          color_mode=color_mode,\n",
        "                                          batch_size=batch_size,\n",
        "                                          shuffle=shuffle,\n",
        "                                          subset=subset,\n",
        "                                          class_mode=class_mode)\n",
        "  return generator\n"
      ],
      "metadata": {
        "id": "5eDLBw52Vu0o"
      },
      "execution_count": null,
      "outputs": []
    },
    {
      "cell_type": "code",
      "source": [
        "FNT_directory = '/content/English/Fnt/'\n",
        "HND_directory = '/content/English/Hnd/Img'\n",
        "Good_Img_directory = '/content/English/Img/GoodImg/Bmp'\n",
        "Bad_Img_directory = '/content/English/Img/BadImag/Bmp'\n"
      ],
      "metadata": {
        "id": "33OcnReeaLVB"
      },
      "execution_count": null,
      "outputs": []
    },
    {
      "cell_type": "code",
      "source": [
        "Fnt_train_generator = image_data_generator(FNT_directory)"
      ],
      "metadata": {
        "id": "lqY_Xw0EX_ve",
        "colab": {
          "base_uri": "https://localhost:8080/"
        },
        "outputId": "3698369e-c949-42d7-f1f7-0be4ff748ca9"
      },
      "execution_count": null,
      "outputs": [
        {
          "output_type": "stream",
          "name": "stdout",
          "text": [
            "Found 50406 images belonging to 62 classes.\n"
          ]
        }
      ]
    },
    {
      "cell_type": "code",
      "source": [
        "Fnt_val_generator = image_data_generator(FNT_directory,subset=\"validation\")"
      ],
      "metadata": {
        "id": "j_DncHQYaO_O",
        "colab": {
          "base_uri": "https://localhost:8080/"
        },
        "outputId": "5e2de8d9-dc8f-4652-fe83-a1c357e39c2b"
      },
      "execution_count": null,
      "outputs": [
        {
          "output_type": "stream",
          "name": "stdout",
          "text": [
            "Found 12586 images belonging to 62 classes.\n"
          ]
        }
      ]
    },
    {
      "cell_type": "code",
      "metadata": {
        "id": "QDsSiOLqswRJ"
      },
      "source": [
        "# Paramètres modifiables \n",
        "nodes = 32\n",
        "epochs = 32\n",
        "BATCH_SIZE = 32\n",
        "import math\n",
        "import keras \n",
        "from keras.backend import categorical_crossentropy\n",
        "from tensorflow.keras.optimizers import RMSprop\n",
        "from tensorflow.keras import layers \n",
        "from tensorflow.keras import models \n",
        "import matplotlib.pyplot as plt \n",
        "\n",
        "def default_layers (nodes=nodes):\n",
        "  model = models.Sequential()\n",
        "  model.add(layers.Conv2D(nodes,3,activation='relu',input_shape=(100,100,3)))\n",
        "  model.add(layers.MaxPooling2D(2))\n",
        "  model.add(layers.Flatten())\n",
        "  model.add(layers.Dense(62, activation = 'softmax'))\n",
        "  model.summary()\n",
        "  return model\n",
        "\n",
        "\n",
        "\n",
        "def compilation(model,loss='categorical_crossentropy',optimizer=\"rmsprop\",metrics=['acc']):\n",
        "  model.compile(loss=loss,\n",
        "              optimizer=optimizer,\n",
        "              metrics=metrics)\n",
        "  return model\n",
        "\n",
        "\n",
        "#### CALLBACKS\n",
        "def callback(modelcheck=\"checkpointmodel.h5\") :\n",
        "  callbacks_list = [keras.callbacks.EarlyStopping(monitor='val_loss',patience=8),\n",
        "                  keras.callbacks.ModelCheckpoint(filepath=modelcheck,monitor='val_loss',save_best_only=True),\n",
        "                  keras.callbacks.ReduceLROnPlateau(),\n",
        "                  ]\n",
        "  return callbacks_list\n",
        "\n",
        "callbacks_list =callback()\n",
        "\n",
        "def default_training(compiled_model,train_generator,val_generator,batch_size=BATCH_SIZE,epochs=epochs,verbose=2,callbacks=callbacks_list):\n",
        "  history = compiled_model.fit_generator(\n",
        "      train_generator,\n",
        "      steps_per_epoch=math.ceil(train_generator.samples//batch_size),  \n",
        "      epochs=epochs,\n",
        "      callbacks=callbacks,\n",
        "      validation_data=val_generator,\n",
        "      validation_steps=math.ceil(val_generator.samples//batch_size),\n",
        "      verbose=verbose)\n",
        "  return history\n",
        "\n",
        "\n"
      ],
      "execution_count": null,
      "outputs": []
    },
    {
      "cell_type": "markdown",
      "source": [
        "### S'arrêter à temps \n",
        "\n",
        "On a mentionné le fait d'arrêter l'entrainement dès qu'on détectait l'overfitting, afin de limiter la décadence du modèle. \n",
        "\n",
        "En principe, on comprends comment faire : comparer les valeurs de loss sur le jeu de validation après chaque epoch avec les epochs précédentes et mettre un stop lorsque la loss ne s'améliore plus. \n",
        "\n",
        "Oui mais ... celà requiert de pouvoir faire des comparaisons sur les valeurs de l'entrainement... pendant l'entrainement ! \n",
        "\n",
        "Heureusement, il existe un outil pour ça ... les **Callbacks** ! \n",
        "\n",
        "Les callbacks sont des moyens de monitorer ce qui se passe pendant l'entrainement et d'interagir avec celui-ci pendant son exécution. Quand on lance des entrainements qui peuvent durer plusieurs jours, il est important de pouvoir contrôler les avancées régulièrement... \n",
        "\n",
        "Voici quelques callbacks courants implémentés dans keras : \n",
        "*   **Model ckeckpoint** : permet de sauvegarder l'état des poids à différents moments dans l'entrainement \n",
        "*    **Early stopping** : Permet d'interrompre l'entrainement quand la validation loss ne s'améliore plus \n",
        "*    **Dynamical parametyer adjustment** permet de modifier des variables, comme la learning rate ou l'optimizer, durant l'entrainement. \n",
        "*    **Logging** : permet de connaitre l'état des différentes variables durant l'entrainement et de les afficher ou de les sauvegarder. La barre de progression qui s'affiche lors d'un entrainement en fait partie ! \n",
        "\n",
        "On ajoute des callbacks de la manière suivante : \n",
        "\n",
        "- on les déclare dans une liste : \n",
        "\n",
        "\n",
        "\n",
        "```\n",
        "callbacks_list = [keras.callbacks.EarlyStopping(monitor='val_loss',patience=10),\n",
        "                  keras.callbacks.ModelCheckpoint(filepath=modelcheck,monitor='val_loss',save_best_only=True),\n",
        "                  keras.callbacks.ReduceLROnPlateau(),\n",
        "                  ]\n",
        "```\n",
        "- puis on les ajoute lorsque l'on lance l'entrainement : \n",
        "\n",
        "```\n",
        "history = compiled_model.fit_generator(\n",
        "      train_generator,\n",
        "      steps_per_epoch=math.ceil(train_generator.samples//batch_size),  \n",
        "      epochs=epochs,\n",
        "      callbacks=callbacks,\n",
        "      validation_data=val_generator,\n",
        "      validation_steps=math.ceil(val_generator.samples//batch_size),\n",
        "      verbose=verbose)\n",
        "\n",
        "```\n"
      ],
      "metadata": {
        "id": "Cuh2VpHpIAyu"
      }
    },
    {
      "cell_type": "code",
      "source": [
        "model =default_layers()"
      ],
      "metadata": {
        "colab": {
          "base_uri": "https://localhost:8080/"
        },
        "id": "YaFk_a2-dja5",
        "outputId": "0a2f752c-8a66-4144-bc11-60c16568e571"
      },
      "execution_count": null,
      "outputs": [
        {
          "output_type": "stream",
          "name": "stdout",
          "text": [
            "Model: \"sequential\"\n",
            "_________________________________________________________________\n",
            " Layer (type)                Output Shape              Param #   \n",
            "=================================================================\n",
            " conv2d (Conv2D)             (None, 98, 98, 32)        896       \n",
            "                                                                 \n",
            " max_pooling2d (MaxPooling2D  (None, 49, 49, 32)       0         \n",
            " )                                                               \n",
            "                                                                 \n",
            " flatten (Flatten)           (None, 76832)             0         \n",
            "                                                                 \n",
            " dense (Dense)               (None, 62)                4763646   \n",
            "                                                                 \n",
            "=================================================================\n",
            "Total params: 4,764,542\n",
            "Trainable params: 4,764,542\n",
            "Non-trainable params: 0\n",
            "_________________________________________________________________\n"
          ]
        }
      ]
    },
    {
      "cell_type": "code",
      "source": [
        "compiled_model = compilation(model)"
      ],
      "metadata": {
        "id": "MnRAM1QseCUU"
      },
      "execution_count": null,
      "outputs": []
    },
    {
      "cell_type": "code",
      "source": [
        "FNT_history = default_training(compiled_model,Fnt_train_generator,Fnt_val_generator)"
      ],
      "metadata": {
        "colab": {
          "base_uri": "https://localhost:8080/"
        },
        "id": "cHFy3INwebph",
        "outputId": "6005b3eb-8b04-425b-9207-157d93d5bba2"
      },
      "execution_count": null,
      "outputs": [
        {
          "output_type": "stream",
          "name": "stderr",
          "text": [
            "/usr/local/lib/python3.7/dist-packages/ipykernel_launcher.py:49: UserWarning: `Model.fit_generator` is deprecated and will be removed in a future version. Please use `Model.fit`, which supports generators.\n"
          ]
        },
        {
          "output_type": "stream",
          "name": "stdout",
          "text": [
            "Epoch 1/32\n",
            "1575/1575 - 354s - loss: 1.0019 - acc: 0.7659 - val_loss: 0.5917 - val_acc: 0.8371 - lr: 0.0010 - 354s/epoch - 225ms/step\n",
            "Epoch 2/32\n",
            "1575/1575 - 349s - loss: 0.5520 - acc: 0.8517 - val_loss: 0.5709 - val_acc: 0.8414 - lr: 0.0010 - 349s/epoch - 221ms/step\n",
            "Epoch 3/32\n",
            "1575/1575 - 347s - loss: 0.4822 - acc: 0.8696 - val_loss: 0.5690 - val_acc: 0.8392 - lr: 0.0010 - 347s/epoch - 221ms/step\n",
            "Epoch 4/32\n",
            "1575/1575 - 345s - loss: 0.4454 - acc: 0.8793 - val_loss: 0.5701 - val_acc: 0.8456 - lr: 0.0010 - 345s/epoch - 219ms/step\n",
            "Epoch 5/32\n",
            "1575/1575 - 347s - loss: 0.4218 - acc: 0.8860 - val_loss: 0.5687 - val_acc: 0.8434 - lr: 0.0010 - 347s/epoch - 220ms/step\n",
            "Epoch 6/32\n",
            "1575/1575 - 347s - loss: 0.4056 - acc: 0.8894 - val_loss: 0.5771 - val_acc: 0.8441 - lr: 0.0010 - 347s/epoch - 220ms/step\n",
            "Epoch 7/32\n",
            "1575/1575 - 347s - loss: 0.3932 - acc: 0.8934 - val_loss: 0.5730 - val_acc: 0.8445 - lr: 0.0010 - 347s/epoch - 221ms/step\n",
            "Epoch 8/32\n",
            "1575/1575 - 348s - loss: 0.3832 - acc: 0.8959 - val_loss: 0.6175 - val_acc: 0.8441 - lr: 0.0010 - 348s/epoch - 221ms/step\n",
            "Epoch 9/32\n",
            "1575/1575 - 347s - loss: 0.3747 - acc: 0.8975 - val_loss: 0.6186 - val_acc: 0.8401 - lr: 0.0010 - 347s/epoch - 221ms/step\n",
            "Epoch 10/32\n",
            "1575/1575 - 347s - loss: 0.3695 - acc: 0.8997 - val_loss: 0.5758 - val_acc: 0.8415 - lr: 0.0010 - 347s/epoch - 220ms/step\n",
            "Epoch 11/32\n",
            "1575/1575 - 347s - loss: 0.3631 - acc: 0.9007 - val_loss: 0.5883 - val_acc: 0.8406 - lr: 0.0010 - 347s/epoch - 220ms/step\n",
            "Epoch 12/32\n",
            "1575/1575 - 346s - loss: 0.3580 - acc: 0.9026 - val_loss: 0.5931 - val_acc: 0.8441 - lr: 0.0010 - 346s/epoch - 220ms/step\n",
            "Epoch 13/32\n",
            "1575/1575 - 345s - loss: 0.3561 - acc: 0.9027 - val_loss: 0.6056 - val_acc: 0.8414 - lr: 0.0010 - 345s/epoch - 219ms/step\n"
          ]
        }
      ]
    },
    {
      "cell_type": "code",
      "source": [
        "acc = FNT_history.history['acc']\n",
        "val_acc = FNT_history.history['val_acc']\n",
        "loss = FNT_history.history['loss']\n",
        "val_loss = FNT_history.history['val_loss']\n",
        "\n",
        "epochs = range(1, len(acc) +1)\n",
        "\n",
        "plt.plot(epochs,acc,'bo',label='Training acc')\n",
        "plt.plot(epochs,val_acc,'b',label='Validation acc')\n",
        "plt.title('Training and validation accuracy')\n",
        "plt.legend()\n",
        "\n",
        "plt.figure()\n",
        "\n",
        "plt.plot(epochs,loss,'bo',label='Training loss')\n",
        "plt.plot(epochs,val_loss,'b',label='Validation loss')\n",
        "plt.title('Training and validation loss')\n",
        "plt.legend()\n",
        "\n",
        "plt.show()\n"
      ],
      "metadata": {
        "colab": {
          "base_uri": "https://localhost:8080/",
          "height": 545
        },
        "id": "V8FxtmIICx85",
        "outputId": "378ad082-d44f-4e51-8d5f-a92b73e3aa96"
      },
      "execution_count": null,
      "outputs": [
        {
          "output_type": "display_data",
          "data": {
            "text/plain": [
              "<Figure size 432x288 with 1 Axes>"
            ],
            "image/png": "[encoded data removed]"
          },
          "metadata": {
            "needs_background": "light"
          }
        },
        {
          "output_type": "display_data",
          "data": {
            "text/plain": [
              "<Figure size 432x288 with 1 Axes>"
            ],
            "image/png": "[encoded data removed]"
          },
          "metadata": {
            "needs_background": "light"
          }
        }
      ]
    },
    {
      "cell_type": "code",
      "source": [
        "import tensorflow as tf\n",
        "loaded_model = tf.keras.models.load_model('checkpointmodel.h5')\n",
        "loaded_model.evaluate(Fnt_val_generator)"
      ],
      "metadata": {
        "colab": {
          "base_uri": "https://localhost:8080/"
        },
        "id": "30b9KZn28XIj",
        "outputId": "7e463100-20e9-4305-8ce8-a63ea42c87ae"
      },
      "execution_count": null,
      "outputs": [
        {
          "output_type": "stream",
          "name": "stdout",
          "text": [
            "394/394 [==============================] - 29s 72ms/step - loss: 0.5684 - acc: 0.8435\n"
          ]
        },
        {
          "output_type": "execute_result",
          "data": {
            "text/plain": [
              "[0.5683633089065552, 0.8434768915176392]"
            ]
          },
          "metadata": {},
          "execution_count": 15
        }
      ]
    },
    {
      "cell_type": "markdown",
      "source": [
        "Sauvegarder un modèle nous permet de conserver les calculs réalisés, et de ne pas avoir à ré-entraîner un modèle avant son utilisation à chaque fois !"
      ],
      "metadata": {
        "id": "2u_cVE6ZHNSX"
      }
    },
    {
      "cell_type": "markdown",
      "source": [
        "Remarques:\n",
        "Quand j'applique les techniques de Data augmentation (si je mets \"data_augment=True\"), le model donne des performances tres faibles.Je suppose que les transformations ne sont pas adaptées aux caracteres."
      ],
      "metadata": {
        "id": "uhSGzaP4FxrV"
      }
    }
  ]
}